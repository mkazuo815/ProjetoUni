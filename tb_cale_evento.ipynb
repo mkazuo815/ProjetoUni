{
 "cells": [
  {
   "cell_type": "code",
   "execution_count": 1,
   "metadata": {},
   "outputs": [
    {
     "name": "stdout",
     "output_type": "stream",
     "text": [
      "131/131\r"
     ]
    }
   ],
   "source": [
    "%matplotlib notebook\n",
    "%matplotlib inline\n",
    "\n",
    "import pandas as pd\n",
    "from pycarol.auth.PwdAuth import PwdAuth\n",
    "from pycarol import Carol\n",
    "password = 'fabCarol'\n",
    "carol = Carol('totvsconsulting', 'jupyter', auth=PwdAuth('fabricio.antoniasse@totvs.com.br', password))\n",
    "\n",
    "\n",
    "\n",
    "\n",
    "from pycarol.filter import Filter, TYPE_FILTER\n",
    "from pycarol import Query\n",
    "datamodel_name = 'caleevento'\n",
    "index_type='MASTER'\n",
    "only_hits=True\n",
    "fields=None\n",
    "query_filter = Filter.Builder().must(TYPE_FILTER(value=datamodel_name +\"Golden\")).build().to_json()\n",
    "page_size=1000\n",
    "dm = Query(carol, page_size=page_size, index_type=index_type, only_hits=only_hits, fields=fields).query(query_filter).go().results\n",
    "\n",
    "\n",
    "query_filter\n",
    "\n",
    "import pandas as pd\n",
    "data = pd.DataFrame(dm)"
   ]
  },
  {
   "cell_type": "code",
   "execution_count": 2,
   "metadata": {},
   "outputs": [
    {
     "data": {
      "text/html": [
       "<div>\n",
       "<style scoped>\n",
       "    .dataframe tbody tr th:only-of-type {\n",
       "        vertical-align: middle;\n",
       "    }\n",
       "\n",
       "    .dataframe tbody tr th {\n",
       "        vertical-align: top;\n",
       "    }\n",
       "\n",
       "    .dataframe thead th {\n",
       "        text-align: right;\n",
       "    }\n",
       "</style>\n",
       "<table border=\"1\" class=\"dataframe\">\n",
       "  <thead>\n",
       "    <tr style=\"text-align: right;\">\n",
       "      <th></th>\n",
       "      <th>caev_dalu</th>\n",
       "      <th>caev_data</th>\n",
       "      <th>caev_datc</th>\n",
       "      <th>caev_desc</th>\n",
       "      <th>caev_dpad</th>\n",
       "      <th>caev_espa</th>\n",
       "      <th>caev_espc</th>\n",
       "      <th>caev_grup</th>\n",
       "      <th>caev_moda</th>\n",
       "      <th>caev_prep</th>\n",
       "      <th>caev_sequ</th>\n",
       "      <th>caev_stat</th>\n",
       "      <th>caev_tdat</th>\n",
       "      <th>caev_tipo</th>\n",
       "      <th>cale_agev_temp</th>\n",
       "    </tr>\n",
       "  </thead>\n",
       "  <tbody>\n",
       "    <tr>\n",
       "      <th>0</th>\n",
       "      <td>S</td>\n",
       "      <td>2017-08-11T11:49:57.000Z</td>\n",
       "      <td>2017-08-11T11:49:57.000Z</td>\n",
       "      <td>Revisão Webaulas 1,2,3</td>\n",
       "      <td>NaN</td>\n",
       "      <td>18003</td>\n",
       "      <td>18003</td>\n",
       "      <td>1</td>\n",
       "      <td>1</td>\n",
       "      <td>N</td>\n",
       "      <td>209</td>\n",
       "      <td>1</td>\n",
       "      <td>1</td>\n",
       "      <td>3</td>\n",
       "      <td>NaN</td>\n",
       "    </tr>\n",
       "    <tr>\n",
       "      <th>1</th>\n",
       "      <td>S</td>\n",
       "      <td>2017-07-11T20:49:22.000Z</td>\n",
       "      <td>2017-07-11T20:49:22.000Z</td>\n",
       "      <td>Terceiro Encontro Presencial (3)</td>\n",
       "      <td>NaN</td>\n",
       "      <td>880000</td>\n",
       "      <td>880000</td>\n",
       "      <td>1</td>\n",
       "      <td>2</td>\n",
       "      <td>S</td>\n",
       "      <td>155</td>\n",
       "      <td>1</td>\n",
       "      <td>1</td>\n",
       "      <td>5</td>\n",
       "      <td>24.0</td>\n",
       "    </tr>\n",
       "    <tr>\n",
       "      <th>2</th>\n",
       "      <td>S</td>\n",
       "      <td>2018-08-13T17:25:37.000Z</td>\n",
       "      <td>2018-08-13T17:23:00.000Z</td>\n",
       "      <td>AV3 - Avaliação 03 - Disciplina Padrão</td>\n",
       "      <td>NaN</td>\n",
       "      <td>16703</td>\n",
       "      <td>16703</td>\n",
       "      <td>1</td>\n",
       "      <td>1</td>\n",
       "      <td>N</td>\n",
       "      <td>248</td>\n",
       "      <td>1</td>\n",
       "      <td>1</td>\n",
       "      <td>3</td>\n",
       "      <td>NaN</td>\n",
       "    </tr>\n",
       "    <tr>\n",
       "      <th>3</th>\n",
       "      <td>S</td>\n",
       "      <td>2016-11-24T16:05:54.000Z</td>\n",
       "      <td>2016-09-22T21:08:53.000Z</td>\n",
       "      <td>Início do período letivo</td>\n",
       "      <td>NaN</td>\n",
       "      <td>16703</td>\n",
       "      <td>880000</td>\n",
       "      <td>1</td>\n",
       "      <td>1</td>\n",
       "      <td>N</td>\n",
       "      <td>2</td>\n",
       "      <td>1</td>\n",
       "      <td>2</td>\n",
       "      <td>3</td>\n",
       "      <td>NaN</td>\n",
       "    </tr>\n",
       "    <tr>\n",
       "      <th>4</th>\n",
       "      <td>S</td>\n",
       "      <td>2018-01-22T16:29:44.000Z</td>\n",
       "      <td>2018-01-22T16:29:44.000Z</td>\n",
       "      <td>Atividade Prática</td>\n",
       "      <td>NaN</td>\n",
       "      <td>18003</td>\n",
       "      <td>18003</td>\n",
       "      <td>1</td>\n",
       "      <td>2</td>\n",
       "      <td>S</td>\n",
       "      <td>234</td>\n",
       "      <td>1</td>\n",
       "      <td>2</td>\n",
       "      <td>5</td>\n",
       "      <td>NaN</td>\n",
       "    </tr>\n",
       "  </tbody>\n",
       "</table>\n",
       "</div>"
      ],
      "text/plain": [
       "  caev_dalu                 caev_data                 caev_datc  \\\n",
       "0         S  2017-08-11T11:49:57.000Z  2017-08-11T11:49:57.000Z   \n",
       "1         S  2017-07-11T20:49:22.000Z  2017-07-11T20:49:22.000Z   \n",
       "2         S  2018-08-13T17:25:37.000Z  2018-08-13T17:23:00.000Z   \n",
       "3         S  2016-11-24T16:05:54.000Z  2016-09-22T21:08:53.000Z   \n",
       "4         S  2018-01-22T16:29:44.000Z  2018-01-22T16:29:44.000Z   \n",
       "\n",
       "                                caev_desc caev_dpad  caev_espa  caev_espc  \\\n",
       "0                  Revisão Webaulas 1,2,3       NaN      18003      18003   \n",
       "1        Terceiro Encontro Presencial (3)       NaN     880000     880000   \n",
       "2  AV3 - Avaliação 03 - Disciplina Padrão       NaN      16703      16703   \n",
       "3               Início do período letivo        NaN      16703     880000   \n",
       "4                       Atividade Prática       NaN      18003      18003   \n",
       "\n",
       "  caev_grup caev_moda caev_prep  caev_sequ caev_stat caev_tdat caev_tipo  \\\n",
       "0         1         1         N        209         1         1         3   \n",
       "1         1         2         S        155         1         1         5   \n",
       "2         1         1         N        248         1         1         3   \n",
       "3         1         1         N          2         1         2         3   \n",
       "4         1         2         S        234         1         2         5   \n",
       "\n",
       "   cale_agev_temp  \n",
       "0             NaN  \n",
       "1            24.0  \n",
       "2             NaN  \n",
       "3             NaN  \n",
       "4             NaN  "
      ]
     },
     "execution_count": 2,
     "metadata": {},
     "output_type": "execute_result"
    }
   ],
   "source": [
    "data.head()"
   ]
  },
  {
   "cell_type": "code",
   "execution_count": 3,
   "metadata": {},
   "outputs": [
    {
     "data": {
      "text/html": [
       "<div>\n",
       "<style scoped>\n",
       "    .dataframe tbody tr th:only-of-type {\n",
       "        vertical-align: middle;\n",
       "    }\n",
       "\n",
       "    .dataframe tbody tr th {\n",
       "        vertical-align: top;\n",
       "    }\n",
       "\n",
       "    .dataframe thead th {\n",
       "        text-align: right;\n",
       "    }\n",
       "</style>\n",
       "<table border=\"1\" class=\"dataframe\">\n",
       "  <thead>\n",
       "    <tr style=\"text-align: right;\">\n",
       "      <th></th>\n",
       "      <th>caev_espa</th>\n",
       "      <th>caev_espc</th>\n",
       "      <th>caev_sequ</th>\n",
       "      <th>cale_agev_temp</th>\n",
       "    </tr>\n",
       "  </thead>\n",
       "  <tbody>\n",
       "    <tr>\n",
       "      <th>count</th>\n",
       "      <td>1.310000e+02</td>\n",
       "      <td>1.310000e+02</td>\n",
       "      <td>131.000000</td>\n",
       "      <td>21.000000</td>\n",
       "    </tr>\n",
       "    <tr>\n",
       "      <th>mean</th>\n",
       "      <td>6.329228e+06</td>\n",
       "      <td>5.728581e+06</td>\n",
       "      <td>150.725191</td>\n",
       "      <td>91.380952</td>\n",
       "    </tr>\n",
       "    <tr>\n",
       "      <th>std</th>\n",
       "      <td>2.398348e+07</td>\n",
       "      <td>2.248845e+07</td>\n",
       "      <td>90.745803</td>\n",
       "      <td>161.052003</td>\n",
       "    </tr>\n",
       "    <tr>\n",
       "      <th>min</th>\n",
       "      <td>6.777000e+03</td>\n",
       "      <td>6.777000e+03</td>\n",
       "      <td>1.000000</td>\n",
       "      <td>2.000000</td>\n",
       "    </tr>\n",
       "    <tr>\n",
       "      <th>25%</th>\n",
       "      <td>1.670300e+04</td>\n",
       "      <td>1.800300e+04</td>\n",
       "      <td>33.500000</td>\n",
       "      <td>8.000000</td>\n",
       "    </tr>\n",
       "    <tr>\n",
       "      <th>50%</th>\n",
       "      <td>1.800300e+04</td>\n",
       "      <td>1.800300e+04</td>\n",
       "      <td>168.000000</td>\n",
       "      <td>17.000000</td>\n",
       "    </tr>\n",
       "    <tr>\n",
       "      <th>75%</th>\n",
       "      <td>8.800000e+05</td>\n",
       "      <td>8.800000e+05</td>\n",
       "      <td>224.000000</td>\n",
       "      <td>101.000000</td>\n",
       "    </tr>\n",
       "    <tr>\n",
       "      <th>max</th>\n",
       "      <td>1.000009e+08</td>\n",
       "      <td>1.000009e+08</td>\n",
       "      <td>271.000000</td>\n",
       "      <td>641.000000</td>\n",
       "    </tr>\n",
       "  </tbody>\n",
       "</table>\n",
       "</div>"
      ],
      "text/plain": [
       "          caev_espa     caev_espc   caev_sequ  cale_agev_temp\n",
       "count  1.310000e+02  1.310000e+02  131.000000       21.000000\n",
       "mean   6.329228e+06  5.728581e+06  150.725191       91.380952\n",
       "std    2.398348e+07  2.248845e+07   90.745803      161.052003\n",
       "min    6.777000e+03  6.777000e+03    1.000000        2.000000\n",
       "25%    1.670300e+04  1.800300e+04   33.500000        8.000000\n",
       "50%    1.800300e+04  1.800300e+04  168.000000       17.000000\n",
       "75%    8.800000e+05  8.800000e+05  224.000000      101.000000\n",
       "max    1.000009e+08  1.000009e+08  271.000000      641.000000"
      ]
     },
     "execution_count": 3,
     "metadata": {},
     "output_type": "execute_result"
    }
   ],
   "source": [
    "data.describe()"
   ]
  },
  {
   "cell_type": "code",
   "execution_count": 4,
   "metadata": {},
   "outputs": [
    {
     "data": {
      "text/plain": [
       "Index(['caev_dalu', 'caev_data', 'caev_datc', 'caev_desc', 'caev_dpad',\n",
       "       'caev_espa', 'caev_espc', 'caev_grup', 'caev_moda', 'caev_prep',\n",
       "       'caev_sequ', 'caev_stat', 'caev_tdat', 'caev_tipo', 'cale_agev_temp'],\n",
       "      dtype='object')"
      ]
     },
     "execution_count": 4,
     "metadata": {},
     "output_type": "execute_result"
    }
   ],
   "source": [
    "data.columns"
   ]
  },
  {
   "cell_type": "code",
   "execution_count": 8,
   "metadata": {},
   "outputs": [],
   "source": [
    "aux = data.caev_desc"
   ]
  },
  {
   "cell_type": "code",
   "execution_count": 11,
   "metadata": {},
   "outputs": [
    {
     "data": {
      "text/plain": [
       "77                AV1 - Avaliação 01 - Disciplina Padrão\n",
       "70      AV1 Avaliação Presencial 01 - Disciplina On-line\n",
       "18                AV2 - Avaliação 02 - Disciplina Padrão\n",
       "71      AV2 Avaliação Presencial 02 - Disciplina On-line\n",
       "2                 AV3 - Avaliação 03 - Disciplina Padrão\n",
       "38                              Apresentação Cursos Flex\n",
       "109                                  Atividade Acadêmica\n",
       "45                               Atividade Brinquedoteca\n",
       "4                                      Atividade Prática\n",
       "101                                  Atividade Prática 2\n",
       "66                                   Atividade Prática 3\n",
       "63                                   Atividade Prática 4\n",
       "62                                   Atividade Prática 5\n",
       "64                                   Atividade Prática 6\n",
       "126                                  Atividade Prática 7\n",
       "127                                  Atividade Prática 8\n",
       "129                                Atividades Acadêmicas\n",
       "128                                Atividades acadêmicas\n",
       "23                                 Avaliação 2ª chamada \n",
       "67                               Avaliação Institucional\n",
       "31                               Avaliação Oficial Final\n",
       "22                                   Avaliação Webaula 1\n",
       "50                                   Avaliação Webaula 2\n",
       "95           Avaliação de 2° chamada (disciplina online)\n",
       "105                 Avaliação de 2° chamada (presencial)\n",
       "74                 Avaliação oficial (disciplina online)\n",
       "68         Avaliação oficial do 1º bimestre (presencial)\n",
       "103        Avaliação oficial do 2º bimestre (presencial)\n",
       "120      Avaliação parcial Webaula 1 (disciplina online)\n",
       "72       Avaliação parcial Webaula 2 (disciplina online)\n",
       "                             ...                        \n",
       "56                        Quarto Encontro Presencial (3)\n",
       "93                        Quarto Encontro Presencial (4)\n",
       "25                            Quinto Encontro Presencial\n",
       "32                        Quinto Encontro Presencial (2)\n",
       "121                         Recepção Formação Pedagógica\n",
       "92                                Recepção de acadêmicos\n",
       "119                                      Recesso Escolar\n",
       "87                    Recesso escolar para os acadêmicos\n",
       "0                                 Revisão Webaulas 1,2,3\n",
       "53                           Segundo Encontro Presencial\n",
       "40                       Segundo Encontro Presencial (2)\n",
       "26                       Segundo Encontro Presencial (3)\n",
       "102                    Semana de Comunicação Estratégica\n",
       "12                                  Semana de Integração\n",
       "91                Seminário de Socialização das Práticas\n",
       "123                            Sexto Encontro Presencial\n",
       "89                               Socialização do Estágio\n",
       "57                  Socialização do TG/Projeto de Ensino\n",
       "44                     Socialização do paper (Seminário)\n",
       "78                      Socialização do paper do Estágio\n",
       "48            Socialização do paper do Projeto de Ensino\n",
       "75                                       Sábados Letivos\n",
       "61                            Sétimo Encontro Presencial\n",
       "42                        Sétimo Encontro Presencial (2)\n",
       "41                          Terceiro Encontro Presencial\n",
       "116                     Terceiro Encontro Presencial (2)\n",
       "1                       Terceiro Encontro Presencial (3)\n",
       "81                                            Tiradentes\n",
       "98                             Término do período letivo\n",
       "59     Visita técnica/prática, sala de aula ou ativid...\n",
       "Name: caev_desc, Length: 128, dtype: object"
      ]
     },
     "execution_count": 11,
     "metadata": {},
     "output_type": "execute_result"
    }
   ],
   "source": [
    "aux.drop_duplicates().sort_values()"
   ]
  },
  {
   "cell_type": "code",
   "execution_count": 12,
   "metadata": {},
   "outputs": [
    {
     "data": {
      "text/plain": [
       "caev_dalu          object\n",
       "caev_data          object\n",
       "caev_datc          object\n",
       "caev_desc          object\n",
       "caev_dpad          object\n",
       "caev_espa           int64\n",
       "caev_espc           int64\n",
       "caev_grup          object\n",
       "caev_moda          object\n",
       "caev_prep          object\n",
       "caev_sequ           int64\n",
       "caev_stat          object\n",
       "caev_tdat          object\n",
       "caev_tipo          object\n",
       "cale_agev_temp    float64\n",
       "dtype: object"
      ]
     },
     "execution_count": 12,
     "metadata": {},
     "output_type": "execute_result"
    }
   ],
   "source": [
    "data.dtypes"
   ]
  },
  {
   "cell_type": "code",
   "execution_count": 21,
   "metadata": {},
   "outputs": [],
   "source": [
    "#convert object to datetime\n",
    "data['caev_data'] = data.caev_data.astype('datetime64[D]')\n",
    "data['caev_datc'] = data.caev_datc.astype('datetime64[D]')"
   ]
  },
  {
   "cell_type": "code",
   "execution_count": 22,
   "metadata": {},
   "outputs": [
    {
     "data": {
      "text/plain": [
       "0   2017-08-11\n",
       "1   2017-07-11\n",
       "2   2018-08-13\n",
       "3   2016-11-24\n",
       "4   2018-01-22\n",
       "Name: caev_data, dtype: datetime64[ns]"
      ]
     },
     "execution_count": 22,
     "metadata": {},
     "output_type": "execute_result"
    }
   ],
   "source": [
    "data_data.head()"
   ]
  },
  {
   "cell_type": "code",
   "execution_count": 16,
   "metadata": {},
   "outputs": [
    {
     "data": {
      "text/plain": [
       "numpy.datetime64('2017-08-11T11:49:57.000000000')"
      ]
     },
     "execution_count": 16,
     "metadata": {},
     "output_type": "execute_result"
    }
   ],
   "source": [
    "data_data.values[0]"
   ]
  },
  {
   "cell_type": "code",
   "execution_count": 29,
   "metadata": {},
   "outputs": [],
   "source": [
    "data_delta = data[['caev_data','caev_datc']].dropna()"
   ]
  },
  {
   "cell_type": "code",
   "execution_count": 30,
   "metadata": {},
   "outputs": [
    {
     "data": {
      "text/html": [
       "<div>\n",
       "<style scoped>\n",
       "    .dataframe tbody tr th:only-of-type {\n",
       "        vertical-align: middle;\n",
       "    }\n",
       "\n",
       "    .dataframe tbody tr th {\n",
       "        vertical-align: top;\n",
       "    }\n",
       "\n",
       "    .dataframe thead th {\n",
       "        text-align: right;\n",
       "    }\n",
       "</style>\n",
       "<table border=\"1\" class=\"dataframe\">\n",
       "  <thead>\n",
       "    <tr style=\"text-align: right;\">\n",
       "      <th></th>\n",
       "      <th>caev_data</th>\n",
       "      <th>caev_datc</th>\n",
       "    </tr>\n",
       "  </thead>\n",
       "  <tbody>\n",
       "    <tr>\n",
       "      <th>0</th>\n",
       "      <td>2017-08-11</td>\n",
       "      <td>2017-08-11</td>\n",
       "    </tr>\n",
       "    <tr>\n",
       "      <th>1</th>\n",
       "      <td>2017-07-11</td>\n",
       "      <td>2017-07-11</td>\n",
       "    </tr>\n",
       "    <tr>\n",
       "      <th>2</th>\n",
       "      <td>2018-08-13</td>\n",
       "      <td>2018-08-13</td>\n",
       "    </tr>\n",
       "    <tr>\n",
       "      <th>3</th>\n",
       "      <td>2016-11-24</td>\n",
       "      <td>2016-09-22</td>\n",
       "    </tr>\n",
       "    <tr>\n",
       "      <th>4</th>\n",
       "      <td>2018-01-22</td>\n",
       "      <td>2018-01-22</td>\n",
       "    </tr>\n",
       "  </tbody>\n",
       "</table>\n",
       "</div>"
      ],
      "text/plain": [
       "   caev_data  caev_datc\n",
       "0 2017-08-11 2017-08-11\n",
       "1 2017-07-11 2017-07-11\n",
       "2 2018-08-13 2018-08-13\n",
       "3 2016-11-24 2016-09-22\n",
       "4 2018-01-22 2018-01-22"
      ]
     },
     "execution_count": 30,
     "metadata": {},
     "output_type": "execute_result"
    }
   ],
   "source": [
    "data_delta.head()"
   ]
  },
  {
   "cell_type": "code",
   "execution_count": 31,
   "metadata": {},
   "outputs": [],
   "source": [
    "delta = data_delta.caev_data - data_delta.caev_datc"
   ]
  },
  {
   "cell_type": "code",
   "execution_count": 37,
   "metadata": {},
   "outputs": [
    {
     "ename": "AttributeError",
     "evalue": "'Timedelta' object has no attribute 'dt'",
     "output_type": "error",
     "traceback": [
      "\u001b[0;31m---------------------------------------------------------------------------\u001b[0m",
      "\u001b[0;31mAttributeError\u001b[0m                            Traceback (most recent call last)",
      "\u001b[0;32m<ipython-input-37-c406c7143a01>\u001b[0m in \u001b[0;36m<module>\u001b[0;34m\u001b[0m\n\u001b[0;32m----> 1\u001b[0;31m \u001b[0mdelta\u001b[0m\u001b[0;34m[\u001b[0m\u001b[0;36m0\u001b[0m\u001b[0;34m]\u001b[0m\u001b[0;34m.\u001b[0m\u001b[0mdt\u001b[0m\u001b[0;34m.\u001b[0m\u001b[0mdays\u001b[0m\u001b[0;34m\u001b[0m\u001b[0;34m\u001b[0m\u001b[0m\n\u001b[0m",
      "\u001b[0;31mAttributeError\u001b[0m: 'Timedelta' object has no attribute 'dt'"
     ]
    }
   ],
   "source": [
    "delta[0].dt.days"
   ]
  },
  {
   "cell_type": "code",
   "execution_count": null,
   "metadata": {},
   "outputs": [],
   "source": []
  }
 ],
 "metadata": {
  "kernelspec": {
   "display_name": "Python 3",
   "language": "python",
   "name": "python3"
  },
  "language_info": {
   "codemirror_mode": {
    "name": "ipython",
    "version": 3
   },
   "file_extension": ".py",
   "mimetype": "text/x-python",
   "name": "python",
   "nbconvert_exporter": "python",
   "pygments_lexer": "ipython3",
   "version": "3.7.3"
  }
 },
 "nbformat": 4,
 "nbformat_minor": 4
}
